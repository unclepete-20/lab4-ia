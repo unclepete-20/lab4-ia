{
  "nbformat": 4,
  "nbformat_minor": 0,
  "metadata": {
    "colab": {
      "provenance": [],
      "authorship_tag": "ABX9TyP4Jz6ehQ9A6zoQ5zgxZ4kk",
      "include_colab_link": true
    },
    "kernelspec": {
      "name": "python3",
      "display_name": "Python 3"
    },
    "language_info": {
      "name": "python"
    }
  },
  "cells": [
    {
      "cell_type": "markdown",
      "metadata": {
        "id": "view-in-github",
        "colab_type": "text"
      },
      "source": [
        "<a href=\"https://colab.research.google.com/github/unclepete-20/lab4-ia/blob/main/lab4_ia.ipynb\" target=\"_parent\"><img src=\"https://colab.research.google.com/assets/colab-badge.svg\" alt=\"Open In Colab\"/></a>"
      ]
    },
    {
      "cell_type": "markdown",
      "source": [
        "# Laboratorio 4 - Inteligencia Artificial\n",
        "\n",
        "### Integrantes:\n",
        "- Pedro Arriola (20188)\n",
        "- Oscar López (20679)\n",
        "- Santiago Taracena (20017)\n",
        "- YongBum Park (20117)"
      ],
      "metadata": {
        "id": "1jUpHO2OSYbn"
      }
    },
    {
      "cell_type": "markdown",
      "source": [
        "### Task 1 - Regresión lineal polinómica\n",
        "\n",
        "#### Instrucciones: Usted usará Python a través de un Jupyter Notebook para llevar a cabo este ejercicio. Recuerde utilizar comentarios para describir lo que está haciendo en cada parte del proceso. Estará usando el juego de datos proporcionado dentro del portal. Al finalizar recuerde subir al portal un link a su repositorio en el que se pueda correr su notebook, usando https://mybinder.org/. El juego de datos proporcionado es parte de la plataforma Kaggle, dentro del cual se muestran los precios de casas en King County, Seattle. Este juego de datos incluye los precios de las casas vendidas entre mayo 2014 y mayo 2015. Nótese que el precio es dependiente de varias características como el número de habitaciones, número de baños, metros cuadrados de la sala, pisos, etc."
      ],
      "metadata": {
        "id": "nct0l5rpSywL"
      }
    },
    {
      "cell_type": "markdown",
      "source": [
        "### Task 1.1 - Leer el archivo CSV proporcionado (kc_house_data.csv dentro de lab4_dataset.zip) y almacenarlo en un p.array para ser trabajado en el notebook."
      ],
      "metadata": {
        "id": "zVjyFfYVTEjY"
      }
    },
    {
      "cell_type": "code",
      "execution_count": 7,
      "metadata": {
        "colab": {
          "base_uri": "https://localhost:8080/"
        },
        "id": "GhP7RV3pSRl3",
        "outputId": "eaab58fa-fc23-4461-9293-bf3f62155501"
      },
      "outputs": [
        {
          "output_type": "execute_result",
          "data": {
            "text/plain": [
              "array([[7129300520, '20141013T000000', 221900.0, ..., -122.257, 1340,\n",
              "        5650],\n",
              "       [6414100192, '20141209T000000', 538000.0, ..., -122.319, 1690,\n",
              "        7639],\n",
              "       [5631500400, '20150225T000000', 180000.0, ..., -122.233, 2720,\n",
              "        8062],\n",
              "       ...,\n",
              "       [1523300141, '20140623T000000', 402101.0, ..., -122.299, 1020,\n",
              "        2007],\n",
              "       [291310100, '20150116T000000', 400000.0, ..., -122.069, 1410,\n",
              "        1287],\n",
              "       [1523300157, '20141015T000000', 325000.0, ..., -122.299, 1020,\n",
              "        1357]], dtype=object)"
            ]
          },
          "metadata": {},
          "execution_count": 7
        }
      ],
      "source": [
        "# Para esto necesitaremos numpy y pandas, por lo cual se importaran las librerias\n",
        "import pandas as pd\n",
        "import numpy as np\n",
        "\n",
        "# Leer el archivo CSV y almacenarlo en un DataFrame de Pandas\n",
        "data = pd.read_csv(\"kc_house_data.csv\")\n",
        "\n",
        "# Convertir el DataFrame a un array de NumPy\n",
        "array_house = data.to_numpy()\n",
        "\n",
        "# Se imprime el array para observar su forma\n",
        "array_house"
      ]
    },
    {
      "cell_type": "code",
      "source": [
        "# Se explorara un poco sobre la forma del array\n",
        "array_house.shape"
      ],
      "metadata": {
        "colab": {
          "base_uri": "https://localhost:8080/"
        },
        "id": "HggtM_zPac_R",
        "outputId": "f127c6d0-1825-4522-d7a9-c1f0c2b76989"
      },
      "execution_count": 8,
      "outputs": [
        {
          "output_type": "execute_result",
          "data": {
            "text/plain": [
              "(21613, 21)"
            ]
          },
          "metadata": {},
          "execution_count": 8
        }
      ]
    },
    {
      "cell_type": "code",
      "source": [
        "# Se mostraran el numero dimensiones que posee el array\n",
        "array_house.ndim"
      ],
      "metadata": {
        "colab": {
          "base_uri": "https://localhost:8080/"
        },
        "id": "bUX2DiWlbEe3",
        "outputId": "6adb8b81-6137-401e-c769-51f932ddd18b"
      },
      "execution_count": 9,
      "outputs": [
        {
          "output_type": "execute_result",
          "data": {
            "text/plain": [
              "2"
            ]
          },
          "metadata": {},
          "execution_count": 9
        }
      ]
    },
    {
      "cell_type": "code",
      "source": [
        "# Se mostraran el tamaño del array\n",
        "array_house.size"
      ],
      "metadata": {
        "colab": {
          "base_uri": "https://localhost:8080/"
        },
        "id": "XKcA6Z1Qb5lF",
        "outputId": "39b9c81b-ae17-4943-9371-601241a9a7bb"
      },
      "execution_count": 10,
      "outputs": [
        {
          "output_type": "execute_result",
          "data": {
            "text/plain": [
              "453873"
            ]
          },
          "metadata": {},
          "execution_count": 10
        }
      ]
    },
    {
      "cell_type": "markdown",
      "source": [
        "### Task 1.2 - Ajustar un modelo polinomial (regresión lineal) en base al juego de datos cargado de forma matricial que relaciona las variables de precio con los pies cuadrados del espacio habitable interior de los apartamentos (price - sqft living)."
      ],
      "metadata": {
        "id": "neEbb0AjcCIl"
      }
    },
    {
      "cell_type": "code",
      "source": [
        "from sklearn.linear_model import LinearRegression\n",
        "from sklearn.preprocessing import PolynomialFeatures\n",
        "\n",
        "# Obtener los datos de precio y superficie de la casa\n",
        "price = array_house[:,2].reshape(-1,1)\n",
        "sqft_living = array_house[:,5].reshape(-1,1)\n",
        "\n",
        "# Crear objeto PolynomialFeatures para generar características polinomiales de grado 2\n",
        "poly = PolynomialFeatures(degree=2)\n",
        "\n",
        "# Transformar los datos de superficie de la casa a características polinomiales de grado 2\n",
        "X_poly = poly.fit_transform(sqft_living)\n",
        "\n",
        "# Crear un modelo de regresión lineal y ajustarlo a los datos polinomiales\n",
        "reg = LinearRegression().fit(X_poly, price)\n",
        "\n",
        "# Obtener los coeficientes del modelo y el r cuadrado\n",
        "coef = reg.coef_\n",
        "intercept = reg.intercept_\n",
        "r2 = reg.score(X_poly, price)\n",
        "\n",
        "print('Coeficientes:', coef)\n",
        "print('Intercepto:', intercept)\n",
        "print('R cuadrado:', r2)"
      ],
      "metadata": {
        "colab": {
          "base_uri": "https://localhost:8080/"
        },
        "id": "g9zOKyQFcBzo",
        "outputId": "6c9fd92d-7c8b-4153-e470-9d6e9ed7a177"
      },
      "execution_count": 14,
      "outputs": [
        {
          "output_type": "stream",
          "name": "stdout",
          "text": [
            "Coeficientes: [[0.00000000e+00 6.79940947e+01 3.85812609e-02]]\n",
            "Intercepto: [199222.27930548]\n",
            "R cuadrado: 0.5327430940591443\n"
          ]
        }
      ]
    }
  ]
}