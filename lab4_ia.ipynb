{
  "cells": [
    {
      "cell_type": "markdown",
      "metadata": {
        "colab_type": "text",
        "id": "view-in-github"
      },
      "source": [
        "<a href=\"https://colab.research.google.com/github/unclepete-20/lab4-ia/blob/main/lab4_ia.ipynb\" target=\"_parent\"><img src=\"https://colab.research.google.com/assets/colab-badge.svg\" alt=\"Open In Colab\"/></a>"
      ]
    },
    {
      "cell_type": "markdown",
      "metadata": {
        "id": "1jUpHO2OSYbn"
      },
      "source": [
        "# Laboratorio 4 - Inteligencia Artificial\n",
        "\n",
        "### Integrantes:\n",
        "- Pedro Arriola (20188)\n",
        "- Oscar López (20679)\n",
        "- Santiago Taracena (20017)\n",
        "- YongBum Park (20117)"
      ]
    },
    {
      "cell_type": "markdown",
      "metadata": {
        "id": "nct0l5rpSywL"
      },
      "source": [
        "### Task 1 - Regresión lineal polinómica\n",
        "\n",
        "#### Instrucciones: Usted usará Python a través de un Jupyter Notebook para llevar a cabo este ejercicio. Recuerde utilizar comentarios para describir lo que está haciendo en cada parte del proceso. Estará usando el juego de datos proporcionado dentro del portal. Al finalizar recuerde subir al portal un link a su repositorio en el que se pueda correr su notebook, usando https://mybinder.org/. El juego de datos proporcionado es parte de la plataforma Kaggle, dentro del cual se muestran los precios de casas en King County, Seattle. Este juego de datos incluye los precios de las casas vendidas entre mayo 2014 y mayo 2015. Nótese que el precio es dependiente de varias características como el número de habitaciones, número de baños, metros cuadrados de la sala, pisos, etc."
      ]
    },
    {
      "cell_type": "markdown",
      "metadata": {
        "id": "zVjyFfYVTEjY"
      },
      "source": [
        "### Task 1.1 - Leer el archivo CSV proporcionado (kc_house_data.csv dentro de lab4_dataset.zip) y almacenarlo en un p.array para ser trabajado en el notebook."
      ]
    },
    {
      "cell_type": "code",
      "execution_count": 1,
      "metadata": {
        "colab": {
          "base_uri": "https://localhost:8080/"
        },
        "id": "GhP7RV3pSRl3",
        "outputId": "13308eb4-39d6-482f-d5cc-24238d1b8856"
      },
      "outputs": [
        {
          "data": {
            "text/plain": [
              "array([[7129300520, '20141013T000000', 221900.0, ..., -122.257, 1340,\n",
              "        5650],\n",
              "       [6414100192, '20141209T000000', 538000.0, ..., -122.319, 1690,\n",
              "        7639],\n",
              "       [5631500400, '20150225T000000', 180000.0, ...,\n",
              "        -122.23299999999999, 2720, 8062],\n",
              "       ...,\n",
              "       [1523300141, '20140623T000000', 402101.0, ...,\n",
              "        -122.29899999999999, 1020, 2007],\n",
              "       [291310100, '20150116T000000', 400000.0, ..., -122.069, 1410,\n",
              "        1287],\n",
              "       [1523300157, '20141015T000000', 325000.0, ...,\n",
              "        -122.29899999999999, 1020, 1357]], dtype=object)"
            ]
          },
          "execution_count": 1,
          "metadata": {},
          "output_type": "execute_result"
        }
      ],
      "source": [
        "# Para esto necesitaremos numpy y pandas, por lo cual se importaran las librerias\n",
        "import pandas as pd\n",
        "import numpy as np\n",
        "\n",
        "# Leer el archivo CSV y almacenarlo en un DataFrame de Pandas\n",
        "data = pd.read_csv(\"kc_house_data.csv\")\n",
        "\n",
        "# Convertir el DataFrame a un array de NumPy\n",
        "array_house = data.to_numpy()\n",
        "\n",
        "# Se imprime el array para observar su forma\n",
        "array_house"
      ]
    },
    {
      "cell_type": "code",
      "execution_count": 2,
      "metadata": {
        "colab": {
          "base_uri": "https://localhost:8080/"
        },
        "id": "HggtM_zPac_R",
        "outputId": "a4c27f20-9143-4ca3-9521-7ef3d0b87a9d"
      },
      "outputs": [
        {
          "data": {
            "text/plain": [
              "(21613, 21)"
            ]
          },
          "execution_count": 2,
          "metadata": {},
          "output_type": "execute_result"
        }
      ],
      "source": [
        "# Se explorara un poco sobre la forma del array\n",
        "array_house.shape"
      ]
    },
    {
      "cell_type": "code",
      "execution_count": 3,
      "metadata": {
        "colab": {
          "base_uri": "https://localhost:8080/"
        },
        "id": "bUX2DiWlbEe3",
        "outputId": "4f70018c-61cd-4f14-93d6-87235ddb0da1"
      },
      "outputs": [
        {
          "data": {
            "text/plain": [
              "2"
            ]
          },
          "execution_count": 3,
          "metadata": {},
          "output_type": "execute_result"
        }
      ],
      "source": [
        "# Se mostraran el numero dimensiones que posee el array\n",
        "array_house.ndim"
      ]
    },
    {
      "cell_type": "code",
      "execution_count": 4,
      "metadata": {
        "colab": {
          "base_uri": "https://localhost:8080/"
        },
        "id": "XKcA6Z1Qb5lF",
        "outputId": "7a0219d9-80c7-439e-9ed2-363ee2e46bc3"
      },
      "outputs": [
        {
          "data": {
            "text/plain": [
              "453873"
            ]
          },
          "execution_count": 4,
          "metadata": {},
          "output_type": "execute_result"
        }
      ],
      "source": [
        "# Se mostraran el tamaño del array\n",
        "array_house.size"
      ]
    },
    {
      "cell_type": "markdown",
      "metadata": {
        "id": "neEbb0AjcCIl"
      },
      "source": [
        "### Task 1.2 - Ajustar un modelo polinomial (regresión lineal) en base al juego de datos cargado de forma matricial que relaciona las variables de precio con los pies cuadrados del espacio habitable interior de los apartamentos (price - sqft living)."
      ]
    },
    {
      "cell_type": "code",
      "execution_count": 5,
      "metadata": {
        "colab": {
          "base_uri": "https://localhost:8080/"
        },
        "id": "g9zOKyQFcBzo",
        "outputId": "55cf6c3d-4493-40f6-f2ea-a87d28614114"
      },
      "outputs": [
        {
          "name": "stdout",
          "output_type": "stream",
          "text": [
            "Coeficientes: [[     0.         209844.5658275   32543.08728232]]\n",
            "Intercepto: [507545.05448421]\n",
            "R cuadrado: 0.5327430940591443\n"
          ]
        }
      ],
      "source": [
        "from sklearn.linear_model import LinearRegression\n",
        "from sklearn.preprocessing import PolynomialFeatures\n",
        "from sklearn.preprocessing import StandardScaler\n",
        "\n",
        "# Obtener los datos de precio y superficie de la casa\n",
        "price = array_house[:, 2].reshape(-1, 1) # Esta variable representa el valor de y\n",
        "sqft_living = array_house[:, 5].reshape(-1, 1) # Esta variable representa el valor de x\n",
        "\n",
        "# Crear objeto StandardScaler y ajustarlo a los datos de sqft_living\n",
        "scaler = StandardScaler()\n",
        "scaler.fit(sqft_living)\n",
        "\n",
        "# Transformar los datos de sqft_living utilizando el scaler\n",
        "sqft_living_scaled = scaler.transform(sqft_living)\n",
        "\n",
        "# Crear objeto PolynomialFeatures para generar características polinomiales de grado 2\n",
        "poly = PolynomialFeatures(degree=2)\n",
        "\n",
        "# Transformar los datos de superficie de la casa a características polinomiales de grado 2\n",
        "X_poly = poly.fit_transform(sqft_living_scaled)\n",
        "\n",
        "# Crear un modelo de regresión lineal y ajustarlo a los datos polinomiales\n",
        "reg = LinearRegression().fit(X_poly, price)\n",
        "\n",
        "# Obtener los coeficientes del modelo y el r cuadrado\n",
        "coef = reg.coef_\n",
        "intercept = reg.intercept_\n",
        "r2 = reg.score(X_poly, price)\n",
        "\n",
        "print(\"Coeficientes:\", coef)\n",
        "print(\"Intercepto:\", intercept)\n",
        "print(\"R cuadrado:\", r2)"
      ]
    },
    {
      "cell_type": "markdown",
      "metadata": {
        "id": "JMA8xLv3f3ie"
      },
      "source": [
        "### Task 1.3 Utilice la implementación vectorial del algoritmo de regresión lineal (descenso del gradiente visto en clase)."
      ]
    },
    {
      "cell_type": "code",
      "execution_count": 7,
      "metadata": {
        "colab": {
          "base_uri": "https://localhost:8080/"
        },
        "id": "n65etOGvf-XD",
        "outputId": "3d63ca7e-b94b-44df-9252-aa6909a7a46b"
      },
      "outputs": [
        {
          "name": "stdout",
          "output_type": "stream",
          "text": [
            "Precio estimado para una casa de 850 pies cuadrados: $199,201.25\n",
            "<class 'numpy.ndarray'>\n",
            "<class 'numpy.ndarray'>\n"
          ]
        }
      ],
      "source": [
        "# Seleccionar las características a utilizar en la regresión lineal\n",
        "X = data[[\"sqft_living\"]].values\n",
        "y = data[[\"price\"]].values\n",
        "\n",
        "# Se normalizan las caracteristicas\n",
        "X_norm = (X - np.mean(X, axis=0)) / np.std(X, axis=0)\n",
        "\n",
        "# Agregar columna de unos a X para término independiente\n",
        "X_norm = np.hstack((np.ones((X_norm.shape[0], 1)), X_norm))\n",
        "\n",
        "# Se inicializa theta\n",
        "theta = np.zeros((2, 1))\n",
        "\n",
        "# Se define la funcion de hipotesis\n",
        "def hipotesis(X, theta):\n",
        "    return X @ theta\n",
        "\n",
        "# Se define la funcion del costo\n",
        "def cost(X, y, theta):\n",
        "\n",
        "    \"\"\"\n",
        "    m: es el número de ejemplos de entrenamiento.\n",
        "    \n",
        "    theta: Es el vector de parámetros de tamaño (n+1, 1)\n",
        "    \n",
        "    h: Es el vector de predicciones de tamaño (m, 1)\n",
        "    \n",
        "    J: Es el valor de la función de costo, que se calcula utilizando el \n",
        "    error cuadrático medio (MSE) entre las predicciones y los valores reales.\n",
        "    \"\"\"\n",
        "        \n",
        "    m = len(y)\n",
        "\n",
        "    h = hipotesis(X, theta)\n",
        "\n",
        "    J = (1 / (2 * m)) * np.sum((h - y) ** 2)\n",
        "\n",
        "    return J\n",
        "\n",
        "# Se define la funcion de descenso del gradiente\n",
        "def descenso_gradiente(X, y, theta, alpha, iterations, batch_size):\n",
        "    m = len(y)\n",
        "    num_batches = int(np.ceil(m / batch_size)) # Se realiza por tandas\n",
        "\n",
        "    for i in range(iterations):\n",
        "        for j in range(num_batches):\n",
        "            \n",
        "            start = j * batch_size\n",
        "            end = start + batch_size\n",
        "            \n",
        "            X_batch = X[start:end]\n",
        "            y_batch = y[start:end]\n",
        "            \n",
        "            h = hipotesis(X_batch, theta)\n",
        "            error = h - y_batch\n",
        "            gradient = (1 / batch_size) * np.dot(X_batch.T, error)\n",
        "            \n",
        "            theta = theta - alpha * gradient.reshape(theta.shape)\n",
        "\n",
        "    return theta\n",
        "\n",
        "# Se define la funcion que permite hacer la prediccion\n",
        "def prediccion(X, theta):\n",
        "    X_pred = np.hstack((np.ones((X.shape[0], 1)), X))\n",
        "    return hipotesis(X_pred, theta)\n",
        "\n",
        "# Se definen los hiperparámetros\n",
        "alpha = 0.01\n",
        "iterations = 4000\n",
        "batch_size = 128\n",
        "\n",
        "# Se entrena el modelo\n",
        "theta = descenso_gradiente(X_norm, y, theta, alpha, iterations, batch_size)\n",
        "\n",
        "# Se puede realizar una prediccion con los parametros que se definan\n",
        "size = 850\n",
        "X_pred = np.array([[size]])\n",
        "X_pred_norm = (X_pred - np.mean(X, axis=0)) / np.std(X, axis=0)\n",
        "price = prediccion(X_pred_norm, theta)\n",
        "\n",
        "# Se imprime el resultado de la prediccion\n",
        "print(f\"Precio estimado para una casa de {size} pies cuadrados: ${price[0,0]:,.2f}\")\n",
        "print(type(X))\n",
        "print(type(y))"
      ]
    },
    {
      "attachments": {},
      "cell_type": "markdown",
      "metadata": {},
      "source": [
        "### Task 1.4 Usando cross validation determine el grado del polinomio"
      ]
    },
    {
      "cell_type": "code",
      "execution_count": null,
      "metadata": {},
      "outputs": [],
      "source": [
        "from sklearn.model_selection import cross_val_score\n",
        "from sklearn.linear_model import LinearRegression\n",
        "from sklearn.preprocessing import PolynomialFeatures\n",
        "import matplotlib.pyplot as plt\n",
        "\n",
        "X = data.iloc[:, -2].values\n",
        "y = data.iloc[:, -2].values\n",
        "\n",
        "scores = []\n",
        "for i in range(1, 10):\n",
        "    polynomial = PolynomialFeatures(degree=i)\n",
        "    x_polynomial = poly.fit_transform(X.reshape(-1, 1)) \n",
        "\n",
        "    linear_model = LinearRegression()\n",
        "    score = cross_val_score(linear_model, x_polynomial, y, cv=7)\n",
        "    "
      ]
    }
  ],
  "metadata": {
    "colab": {
      "authorship_tag": "ABX9TyNX8Es93mhbKcNVXfhk7kTD",
      "include_colab_link": true,
      "provenance": []
    },
    "kernelspec": {
      "display_name": "Python 3",
      "language": "python",
      "name": "python3"
    },
    "language_info": {
      "codemirror_mode": {
        "name": "ipython",
        "version": 3
      },
      "file_extension": ".py",
      "mimetype": "text/x-python",
      "name": "python",
      "nbconvert_exporter": "python",
      "pygments_lexer": "ipython3",
      "version": "3.10.0"
    },
    "vscode": {
      "interpreter": {
        "hash": "1f89eb7ee7f691a835530315e9cc5d675e01c25354f3226d466fc4ec3dae4d41"
      }
    }
  },
  "nbformat": 4,
  "nbformat_minor": 0
}
